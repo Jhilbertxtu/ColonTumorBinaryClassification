{
 "cells": [
  {
   "cell_type": "markdown",
   "metadata": {
    "collapsed": true
   },
   "source": [
    "To understand the nature of data, its a standard approach to calculate feature importance using one of the ensemble methods like XG Boosting Classifier. In the below experiment we will calculate the important features among given 2000 features of colon tumor dataset."
   ]
  },
  {
   "cell_type": "code",
   "execution_count": 3,
   "metadata": {
    "collapsed": false
   },
   "outputs": [],
   "source": [
    "from xgboost import XGBClassifier\n",
    "from matplotlib import pyplot\n",
    "import pandas as pd\n",
    "import numpy as np\n",
    "from sklearn.preprocessing import StandardScaler\n",
    "import warnings\n",
    "warnings.filterwarnings(\"ignore\")\n",
    "df = pd.read_csv(\n",
    "    filepath_or_buffer='/home/kushwanth/Downloads/ColonTumor/colonTumor.data',\n",
    "    header=None,\n",
    "    sep=',')\n"
   ]
  },
  {
   "cell_type": "markdown",
   "metadata": {},
   "source": [
    "Above code loads the colon tumor dataset into df variable. As 0 to 1999 values are dimensions/features and 2000th value is label we have taken the features. Standardize features by removing the mean and scaling to unit variance\n",
    "Centering and scaling happen independently on each feature by computing the relevant statistics on the samples in the data set. Mean and standard deviation are then stored to be used on later data using the transform method."
   ]
  },
  {
   "cell_type": "code",
   "execution_count": 4,
   "metadata": {
    "collapsed": false
   },
   "outputs": [],
   "source": [
    "# split data into X and y\n",
    "X = df.ix[:,0:1999].values\n",
    "X_std = StandardScaler().fit_transform(X)"
   ]
  },
  {
   "cell_type": "code",
   "execution_count": 5,
   "metadata": {
    "collapsed": false
   },
   "outputs": [
    {
     "data": {
      "text/plain": [
       "XGBClassifier(base_score=0.5, colsample_bylevel=1, colsample_bytree=1,\n",
       "       gamma=0, learning_rate=0.1, max_delta_step=0, max_depth=3,\n",
       "       min_child_weight=1, missing=None, n_estimators=100, nthread=-1,\n",
       "       objective='binary:logistic', reg_alpha=0, reg_lambda=1,\n",
       "       scale_pos_weight=1, seed=0, silent=True, subsample=1)"
      ]
     },
     "execution_count": 5,
     "metadata": {},
     "output_type": "execute_result"
    }
   ],
   "source": [
    "y_labs = df.ix[:,2000].values\n",
    "y=np.zeros(62,dtype=np.int)\n",
    "i=0\n",
    "for value in df.ix[:,2000].values:\n",
    "    if value=='positive':\n",
    "        y[i]=int(1)\n",
    "    else: y[i]=int(0)\n",
    "    i=i+1\n",
    "model1 = XGBClassifier()\n",
    "model1.fit(X_std, y)"
   ]
  },
  {
   "cell_type": "markdown",
   "metadata": {},
   "source": [
    "Above code learns XG boosting classifier. The main advantage is feature importance in calculated as inbuilt feature.\n",
    "Below plot shows the feature importance of each variable. From the plot we can take the threshold for minimum featue importance threshold can be between 0.02 to 0.03. Later in our heuristic experiment we will see that this is a valid tradeoff."
   ]
  },
  {
   "cell_type": "code",
   "execution_count": 7,
   "metadata": {
    "collapsed": false
   },
   "outputs": [
    {
     "data": {
      "image/png": "[encoded data removed]",
      "text/plain": [
       "<matplotlib.figure.Figure at 0x7fb703aaa390>"
      ]
     },
     "metadata": {},
     "output_type": "display_data"
    }
   ],
   "source": [
    "pyplot.bar(range(len(model1.feature_importances_)), model1.feature_importances_)\n",
    "pyplot.show()"
   ]
  },
  {
   "cell_type": "markdown",
   "metadata": {},
   "source": [
    "Now we are going to perform a heuristic experiment to check if the inference about the feature importance is valid or not. The problem statement is : what are the number of features required to ensure the 99% of original nature of data is captured. To do this we will take an arthematic progression of feature importance scores."
   ]
  },
  {
   "cell_type": "code",
   "execution_count": 10,
   "metadata": {
    "collapsed": false
   },
   "outputs": [
    {
     "name": "stdout",
     "output_type": "stream",
     "text": [
      "[ 0.001  0.002  0.003  0.004  0.005  0.006  0.007  0.008  0.009  0.01\n",
      "  0.011  0.012  0.013  0.014  0.015  0.016  0.017  0.018  0.019  0.02\n",
      "  0.021  0.022  0.023  0.024  0.025  0.026  0.027  0.028  0.029  0.03 ]\n"
     ]
    }
   ],
   "source": [
    "#range of 30 feature importance values\n",
    "thres_range=np.arange(0.001,0.031,0.001)\n",
    "print(thres_range)"
   ]
  },
  {
   "cell_type": "markdown",
   "metadata": {},
   "source": [
    "In below code counts calculates the number of features that are above the given threshold. sums calculates the overall feature importance score for given threshold. The code is self explinatory"
   ]
  },
  {
   "cell_type": "code",
   "execution_count": 12,
   "metadata": {
    "collapsed": true
   },
   "outputs": [],
   "source": [
    "counts=[]\n",
    "sums=[]\n",
    "for thresh in thres_range:\n",
    "    cur_count=0\n",
    "    cur_sum=0\n",
    "    for i in model1.feature_importances_:\n",
    "        if i>=thresh:\n",
    "            cur_sum+=i\n",
    "            cur_count+=1\n",
    "    counts.append(cur_count)\n",
    "    sums.append(cur_sum)"
   ]
  },
  {
   "cell_type": "code",
   "execution_count": 14,
   "metadata": {
    "collapsed": false
   },
   "outputs": [
    {
     "data": {
      "image/png": "[encoded data removed]",
      "text/plain": [
       "<matplotlib.figure.Figure at 0x7fb7039ef208>"
      ]
     },
     "metadata": {},
     "output_type": "display_data"
    }
   ],
   "source": [
    "sums=np.array(sums)\n",
    "pyplot.plot(thres_range, sums)\n",
    "pyplot.show()"
   ]
  },
  {
   "cell_type": "code",
   "execution_count": 22,
   "metadata": {
    "collapsed": false
   },
   "outputs": [
    {
     "name": "stdout",
     "output_type": "stream",
     "text": [
      "0.999999977648\n",
      "0.999999977648\n",
      "0.786127150059\n"
     ]
    }
   ],
   "source": [
    "print(sums[3]) #0.03\n",
    "print(sums[4]) #0.04\n",
    "print(sums[5]) #0.05"
   ]
  },
  {
   "cell_type": "markdown",
   "metadata": {},
   "source": [
    "We can see from above graph at a threshold around 0.04, we can get 99% coverage of nature of data.\n",
    "Below graph we will plot counts per threshold heuristic. From the below graph we can see that approx 60 features are more than enough to capture the  99% nature of data."
   ]
  },
  {
   "cell_type": "code",
   "execution_count": 13,
   "metadata": {
    "collapsed": false
   },
   "outputs": [
    {
     "data": {
      "image/png": "[encoded data removed]",
      "text/plain": [
       "<matplotlib.figure.Figure at 0x7fb6ff788cc0>"
      ]
     },
     "metadata": {},
     "output_type": "display_data"
    }
   ],
   "source": [
    "counts=np.array(counts)\n",
    "pyplot.plot(thres_range, counts)\n",
    "pyplot.show()"
   ]
  },
  {
   "cell_type": "code",
   "execution_count": 21,
   "metadata": {
    "collapsed": false
   },
   "outputs": [
    {
     "name": "stdout",
     "output_type": "stream",
     "text": [
      "60\n",
      "60\n",
      "23\n"
     ]
    }
   ],
   "source": [
    "print(counts[3]) #0.03\n",
    "print(counts[4]) #0.04\n",
    "print(counts[5]) #0.05"
   ]
  },
  {
   "cell_type": "markdown",
   "metadata": {},
   "source": [
    "From the experiments we can see that threshold can be fixed to 0.04 with number of features to 60.We will select the 60 features with highest values of feature importance and apply the classifiers like SVM,Random Forest."
   ]
  },
  {
   "cell_type": "markdown",
   "metadata": {},
   "source": [
    "Dimensionality reduction experiments :\n",
    "Before going to classification we will test Dimensionality reduction using PCA. One intutive assumption is after the dimensionality reduction 99 or 98 percent of variability must be preserved in 60 or less features."
   ]
  },
  {
   "cell_type": "code",
   "execution_count": 26,
   "metadata": {
    "collapsed": false
   },
   "outputs": [
    {
     "name": "stdout",
     "output_type": "stream",
     "text": [
      "[ 0.001  0.002  0.003  0.004  0.005  0.006  0.007  0.008  0.009  0.01\n",
      "  0.011  0.012  0.013  0.014  0.015  0.016  0.017  0.018  0.019  0.02\n",
      "  0.021  0.022  0.023  0.024  0.025  0.026  0.027  0.028  0.029  0.03 ]\n"
     ]
    }
   ],
   "source": [
    "mean_vec = np.mean(X_std, axis=0)\n",
    "cov_mat = (X_std - mean_vec).T.dot((X_std - mean_vec)) / (X_std.shape[0]-1)\n",
    "eig_vals, eig_vecs = np.linalg.eig(cov_mat)\n",
    "tot = sum(eig_vals)\n",
    "\n",
    "#var_exp is similar to softmax or normalization as probability.\n",
    "var_exp = [(i / tot) for i in eig_vals]\n",
    "thres_range=np.arange(0.001,0.031,0.001)\n",
    "print(thres_range)"
   ]
  },
  {
   "cell_type": "code",
   "execution_count": 31,
   "metadata": {
    "collapsed": false
   },
   "outputs": [
    {
     "name": "stdout",
     "output_type": "stream",
     "text": [
      "(1+0j)\n"
     ]
    }
   ],
   "source": [
    "print(sum(var_exp))  # summed up to one"
   ]
  },
  {
   "cell_type": "code",
   "execution_count": 28,
   "metadata": {
    "collapsed": false
   },
   "outputs": [],
   "source": [
    "counts=[]\n",
    "sums=[]\n",
    "for thresh in thres_range:\n",
    "    cur_count=0\n",
    "    cur_sum=0\n",
    "    for i in var_exp:\n",
    "        if i>=thresh:\n",
    "            cur_sum+=i\n",
    "            cur_count+=1\n",
    "    counts.append(cur_count)\n",
    "    sums.append(cur_sum)"
   ]
  },
  {
   "cell_type": "code",
   "execution_count": 29,
   "metadata": {
    "collapsed": false
   },
   "outputs": [
    {
     "name": "stderr",
     "output_type": "stream",
     "text": [
      "/usr/local/lib/python3.4/dist-packages/numpy/core/numeric.py:482: ComplexWarning: Casting complex values to real discards the imaginary part\n",
      "  return array(a, dtype, copy=False, order=order)\n"
     ]
    },
    {
     "data": {
      "image/png": "[encoded data removed]",
      "text/plain": [
       "<matplotlib.figure.Figure at 0x7fb6ff91bf28>"
      ]
     },
     "metadata": {},
     "output_type": "display_data"
    }
   ],
   "source": [
    "sums=np.array(sums)\n",
    "pyplot.plot(thres_range, sums)\n",
    "pyplot.show()"
   ]
  },
  {
   "cell_type": "code",
   "execution_count": 30,
   "metadata": {
    "collapsed": false
   },
   "outputs": [
    {
     "data": {
      "image/png": "[encoded data removed]",
      "text/plain": [
       "<matplotlib.figure.Figure at 0x7fb70396ff98>"
      ]
     },
     "metadata": {},
     "output_type": "display_data"
    }
   ],
   "source": [
    "counts=np.array(counts)\n",
    "pyplot.plot(thres_range, counts)\n",
    "pyplot.show()"
   ]
  },
  {
   "cell_type": "markdown",
   "metadata": {},
   "source": [
    "From above experiments we can see that 54 eigen valaue/vector pairs are enough to preserve 99% \n",
    "variability of the data. "
   ]
  },
  {
   "cell_type": "markdown",
   "metadata": {},
   "source": [
    "Also lets visualize the data using t-SNE so that we see the effectiveness of this manifold based method.\n",
    "t-SNE was not able to capture the representation."
   ]
  },
  {
   "cell_type": "code",
   "execution_count": 35,
   "metadata": {
    "collapsed": false
   },
   "outputs": [
    {
     "data": {
      "image/png": "[encoded data removed]",
      "text/plain": [
       "<matplotlib.figure.Figure at 0x7fb73808cc50>"
      ]
     },
     "metadata": {},
     "output_type": "display_data"
    }
   ],
   "source": [
    "from sklearn.manifold import TSNE\n",
    "import pylab\n",
    "model = TSNE(n_components=2, random_state=0)\n",
    "np.set_printoptions(suppress=True)\n",
    "new_data=model.fit_transform(X_std)\n",
    "pyplot.scatter(new_data[:,0], new_data[:,1],c=y,cmap=pylab.cm.cool)\n",
    "pyplot.show()"
   ]
  },
  {
   "cell_type": "markdown",
   "metadata": {},
   "source": [
    "BASELINE ESTIMATION :\n",
    "    To evaluate our results its necessary to have a baseline measure before performing our classification experiments. Also as the dataset is imbalanced, recommended approach is to measure PER LABEL Precision,Recall and F1 score. \n",
    "    In the below experiment we are using a simple baseline classifier and measuring PER LABEL Precision,Recall,F1 score and confusion matrix.\n",
    "    From our previous version experiments we can take our training data size to 40%,50%,60%. We will perform our experiments on these 3 sizes.\n",
    "\n",
    "Below functions are for computing confusion_matrix, per lable precision,recall and F1 score."
   ]
  },
  {
   "cell_type": "code",
   "execution_count": 12,
   "metadata": {
    "collapsed": false
   },
   "outputs": [],
   "source": [
    "\n",
    "def plot_confusion_matrix(cm, classes,\n",
    "                          normalize=False,\n",
    "                          title='Confusion matrix',\n",
    "                          cmap=pyplot.cm.Blues):\n",
    "    \"\"\"\n",
    "    This function prints and plots the confusion matrix.\n",
    "    Normalization can be applied by setting `normalize=True`.\n",
    "    \"\"\"\n",
    "    pyplot.imshow(cm, interpolation='nearest', cmap=cmap)\n",
    "    pyplot.title(title)\n",
    "    pyplot.colorbar()\n",
    "    tick_marks = np.arange(len(classes))\n",
    "    pyplot.xticks(tick_marks, classes, rotation=45)\n",
    "    pyplot.yticks(tick_marks, classes)\n",
    "\n",
    "    if normalize:\n",
    "        cm = cm.astype('float') / cm.sum(axis=1)[:, np.newaxis]\n",
    "        print(\"Normalized confusion matrix\")\n",
    "    else:\n",
    "        print('Confusion matrix, without normalization')\n",
    "\n",
    "    #print(cm)\n",
    "\n",
    "    thresh = cm.max() / 2.\n",
    "    for i, j in itertools.product(range(cm.shape[0]), range(cm.shape[1])):\n",
    "        pyplot.text(j, i, cm[i, j],\n",
    "                 horizontalalignment=\"center\",\n",
    "                 color=\"white\" if cm[i, j] > thresh else \"black\")\n",
    "\n",
    "    pyplot.tight_layout()\n",
    "    pyplot.ylabel('True label')\n",
    "    pyplot.xlabel('Predicted label')\n",
    "\n",
    "def precision_recall_f1(y_labs,y_preds):\n",
    "    if len(y_labs)==len(y_preds) :\n",
    "        TruPos=float(0)\n",
    "        FalNeg=float(0)\n",
    "        TruNeg=float(0)\n",
    "        FalPos=float(0)\n",
    "        iter_len=range(0,len(y_labs))\n",
    "        count=0\n",
    "        for index in iter_len:\n",
    "            if y_labs[index]==y_preds[index] :\n",
    "                if y_labs[index]==1 : TruPos+=1\n",
    "                else : TruNeg+=1\n",
    "            else:\n",
    "                if y_labs[index]==1 : FalNeg+=1\n",
    "                else : FalPos+=1\n",
    "        Pos_Prec=float(TruPos)/(float(TruPos)+float(FalPos))\n",
    "        Neg_Prec=float(TruNeg)/(float(TruNeg)+float(FalNeg))\n",
    "        Pos_Recall=float(TruPos)/(float(TruPos)+float(FalNeg))\n",
    "        Neg_Recall=float(TruNeg)/(float(TruNeg)+float(FalPos))\n",
    "        Pos_F1=2*((Pos_Prec*Pos_Recall)/(Pos_Prec+Pos_Recall))\n",
    "        Neg_F1=2*((Neg_Prec*Neg_Recall)/(Neg_Prec+Neg_Recall))\n",
    "        return Pos_Prec,Neg_Prec,Pos_Recall,Neg_Recall,Pos_F1,Neg_F1"
   ]
  },
  {
   "cell_type": "markdown",
   "metadata": {},
   "source": [
    "Below Baseline experiments show the metrics for 40,50,60 percent of test sets. Code is self explanatory."
   ]
  },
  {
   "cell_type": "code",
   "execution_count": 51,
   "metadata": {
    "collapsed": false
   },
   "outputs": [
    {
     "name": "stdout",
     "output_type": "stream",
     "text": [
      "Confusion matrix, without normalization\n"
     ]
    },
    {
     "data": {
      "image/png": "[encoded data removed]",
      "text/plain": [
       "<matplotlib.figure.Figure at 0x7fb703a23dd8>"
      ]
     },
     "metadata": {},
     "output_type": "display_data"
    }
   ],
   "source": [
    "from sklearn.metrics import confusion_matrix\n",
    "import itertools\n",
    "#for 40% test data\n",
    "ts=0.4\n",
    "X_train, X_test, y_train, y_test = train_test_split(X_std, y, random_state=0,test_size=ts)\n",
    "clf = DummyClassifier(random_state=0)\n",
    "clf.fit(X_train, y_train)\n",
    "DummyClassifier(constant=None, random_state=0, strategy='most_frequent')\n",
    "y_pred=clf.predict(X_test)\n",
    "cnf_matrix = confusion_matrix(y_test, y_pred,labels=[0,1])\n",
    "plot_confusion_matrix(cnf_matrix, classes=[0,1],\n",
    "                      title='Confusion matrix')\n",
    "pyplot.show()"
   ]
  },
  {
   "cell_type": "code",
   "execution_count": 54,
   "metadata": {
    "collapsed": false
   },
   "outputs": [
    {
     "name": "stdout",
     "output_type": "stream",
     "text": [
      "================FOR 50.0 PERCENT TEST DATA================\n",
      "positive class precision is 0.15\n",
      "positive class recall is 0.42857142857142855\n",
      "positive class F1 is 0.2222222222222222\n",
      "negative class precision is 0.6363636363636364\n",
      "negative class recall is 0.2916666666666667\n",
      "negative class F1 is 0.4\n"
     ]
    }
   ],
   "source": [
    "def printMetrics():\n",
    "    print(\"================FOR \"+str(100*ts)+\" PERCENT TEST DATA================\")\n",
    "    Pos_Prec,Neg_Prec,Pos_Recall,Neg_Recall,Pos_F1,Neg_F1 =precision_recall_f1(y_test,y_pred)\n",
    "    print(\"positive class precision is \"+str(Pos_Prec))\n",
    "    print(\"positive class recall is \"+str(Pos_Recall))\n",
    "    print(\"positive class F1 is \"+str(Pos_F1))\n",
    "    print(\"negative class precision is \"+str(Neg_Prec))\n",
    "    print(\"negative class recall is \"+str(Neg_Recall))\n",
    "    print(\"negative class F1 is \"+str(Neg_F1))\n",
    "\n",
    "printMetrics()"
   ]
  },
  {
   "cell_type": "code",
   "execution_count": 53,
   "metadata": {
    "collapsed": false
   },
   "outputs": [
    {
     "name": "stdout",
     "output_type": "stream",
     "text": [
      "Confusion matrix, without normalization\n"
     ]
    },
    {
     "data": {
      "image/png": "[encoded data removed]",
      "text/plain": [
       "<matplotlib.figure.Figure at 0x7fb738064c50>"
      ]
     },
     "metadata": {},
     "output_type": "display_data"
    }
   ],
   "source": [
    "ts=0.5\n",
    "X_train, X_test, y_train, y_test = train_test_split(X_std, y, random_state=0,test_size=ts)\n",
    "clf = DummyClassifier(random_state=0)\n",
    "clf.fit(X_train, y_train)\n",
    "DummyClassifier(constant=None, random_state=0, strategy='most_frequent')\n",
    "y_pred=clf.predict(X_test)\n",
    "cnf_matrix = confusion_matrix(y_test, y_pred,labels=[0,1])\n",
    "plot_confusion_matrix(cnf_matrix, classes=[0,1],\n",
    "                      title='Confusion matrix')\n",
    "pyplot.show()"
   ]
  },
  {
   "cell_type": "code",
   "execution_count": 55,
   "metadata": {
    "collapsed": false
   },
   "outputs": [
    {
     "name": "stdout",
     "output_type": "stream",
     "text": [
      "================FOR 50.0 PERCENT TEST DATA================\n",
      "positive class precision is 0.15\n",
      "positive class recall is 0.42857142857142855\n",
      "positive class F1 is 0.2222222222222222\n",
      "negative class precision is 0.6363636363636364\n",
      "negative class recall is 0.2916666666666667\n",
      "negative class F1 is 0.4\n"
     ]
    }
   ],
   "source": [
    "printMetrics()"
   ]
  },
  {
   "cell_type": "code",
   "execution_count": 56,
   "metadata": {
    "collapsed": false
   },
   "outputs": [
    {
     "name": "stdout",
     "output_type": "stream",
     "text": [
      "Confusion matrix, without normalization\n"
     ]
    },
    {
     "data": {
      "image/png": "[encoded data removed]",
      "text/plain": [
       "<matplotlib.figure.Figure at 0x7fb6ff792438>"
      ]
     },
     "metadata": {},
     "output_type": "display_data"
    }
   ],
   "source": [
    "ts=0.6\n",
    "X_train, X_test, y_train, y_test = train_test_split(X_std, y, random_state=0,test_size=ts)\n",
    "clf = DummyClassifier(random_state=0)\n",
    "clf.fit(X_train, y_train)\n",
    "DummyClassifier(constant=None, random_state=0, strategy='most_frequent')\n",
    "y_pred=clf.predict(X_test)\n",
    "cnf_matrix = confusion_matrix(y_test, y_pred,labels=[0,1])\n",
    "plot_confusion_matrix(cnf_matrix, classes=[0,1],\n",
    "                      title='Confusion matrix')\n",
    "pyplot.show()"
   ]
  },
  {
   "cell_type": "code",
   "execution_count": 57,
   "metadata": {
    "collapsed": false
   },
   "outputs": [
    {
     "name": "stdout",
     "output_type": "stream",
     "text": [
      "================FOR 60.0 PERCENT TEST DATA================\n",
      "positive class precision is 0.38461538461538464\n",
      "positive class recall is 0.5\n",
      "positive class F1 is 0.4347826086956522\n",
      "negative class precision is 0.8\n",
      "negative class recall is 0.7142857142857143\n",
      "negative class F1 is 0.7547169811320756\n"
     ]
    }
   ],
   "source": [
    "printMetrics()"
   ]
  },
  {
   "cell_type": "markdown",
   "metadata": {},
   "source": [
    "All the above metrics serves as the baseline measures for our following experiments.\n",
    "Next we are going to use random forests and svms with polynomial and rbf kernels for classification"
   ]
  },
  {
   "cell_type": "markdown",
   "metadata": {},
   "source": [
    "In the below cell we are going to perform classification using random forests with number of trees tuned from 1 to 20. We restrict number of dimension to 60 as we have seen from above experiments that 60 dimensions are more than enough to capture 99% of data variability. Lets define few more variables and functions for our experiment."
   ]
  },
  {
   "cell_type": "code",
   "execution_count": 6,
   "metadata": {
    "collapsed": false
   },
   "outputs": [],
   "source": [
    "from sklearn.decomposition import PCA\n",
    "pos=22\n",
    "neg=40\n",
    "nDims=60\n",
    "pca = PCA(n_components=nDims)\n",
    "#X_std is defined in above experiment is being used as it is\n",
    "pca.fit(X_std)\n",
    "X_pca=pca.transform(X_std)\n",
    "\n",
    "pos_count_tr=0\n",
    "neg_count_tr=0\n",
    "tes_pos_co=0\n",
    "tes_neg_co=0"
   ]
  },
  {
   "cell_type": "code",
   "execution_count": 7,
   "metadata": {
    "collapsed": true
   },
   "outputs": [],
   "source": [
    "#function prepareData splits the training and testing data from X_std with equal proportion of both the classes\n",
    "\n",
    "def prepareData(testPercent,totalData):\n",
    "    total_len=len(totalData[:,1])\n",
    "    tes_pos_co=int(testPercent*pos)\n",
    "    tes_neg_co=int(testPercent*neg)\n",
    "    pos_count_tr=pos-tes_pos_co\n",
    "    neg_count_tr=neg-tes_neg_co\n",
    "    trainCount=pos_count_tr+neg_count_tr\n",
    "    testCount=tes_neg_co+tes_pos_co\n",
    "    trainX=np.zeros([trainCount,60])\n",
    "    trainY=np.zeros([trainCount])\n",
    "    testX=np.zeros([testCount,60])\n",
    "    testY=np.zeros([testCount])\n",
    "    trPsTemp=0\n",
    "    trNgTemp=0\n",
    "    tesPsTemp=0\n",
    "    tesNgTemp=0\n",
    "    for i in range(0,total_len):\n",
    "        if y[i]==0:\n",
    "            if trNgTemp<neg_count_tr:\n",
    "                trainX[trNgTemp]=totalData[i,:]\n",
    "                trainY[trNgTemp]=0\n",
    "                trNgTemp+=1\n",
    "            else:\n",
    "                testX[tesNgTemp]=totalData[i,:]\n",
    "                testY[tesNgTemp]=0\n",
    "                tesNgTemp+=1\n",
    "        else:\n",
    "            if trPsTemp<pos_count_tr:\n",
    "                trainX[trPsTemp]=totalData[i,:]\n",
    "                trainY[trPsTemp]=1\n",
    "                trPsTemp+=1\n",
    "            else:\n",
    "                testX[tesPsTemp]=totalData[i,:]\n",
    "                testY[tesPsTemp]=1\n",
    "                tesPsTemp+=1\n",
    "    return trainX,trainY,testX,testY"
   ]
  },
  {
   "cell_type": "markdown",
   "metadata": {},
   "source": [
    "Below code does classification using RandomForests and the output is a bit crude. We will have a nice tabular representation at the end of all experiments.\n",
    "for the time being output format is :\n",
    "\"PositivClassPrecision,NegativClassPrecision,PositivClassRecall,NegativClassRecall,PositivClasF1,NegativClassF1\""
   ]
  },
  {
   "cell_type": "code",
   "execution_count": 22,
   "metadata": {
    "collapsed": false
   },
   "outputs": [
    {
     "name": "stdout",
     "output_type": "stream",
     "text": [
      "================FOR 40.0 PERCENT TEST DATA AND ESTIMATOR 1================\n",
      "(0.5, 0.7, 0.25, 0.875, 0.3333333333333333, 0.7777777777777777)\n",
      "================FOR 40.0 PERCENT TEST DATA AND ESTIMATOR 2================\n",
      "(0.3333333333333333, 0.6666666666666666, 0.125, 0.875, 0.18181818181818182, 0.7567567567567567)\n",
      "================FOR 40.0 PERCENT TEST DATA AND ESTIMATOR 3================\n",
      "(0.6666666666666666, 0.8666666666666667, 0.75, 0.8125, 0.7058823529411765, 0.8387096774193549)\n",
      "================FOR 40.0 PERCENT TEST DATA AND ESTIMATOR 4================\n",
      "(0.5714285714285714, 0.7647058823529411, 0.5, 0.8125, 0.5333333333333333, 0.787878787878788)\n",
      "================FOR 40.0 PERCENT TEST DATA AND ESTIMATOR 5================\n",
      "(0.6, 0.8571428571428571, 0.75, 0.75, 0.6666666666666665, 0.7999999999999999)\n",
      "================FOR 40.0 PERCENT TEST DATA AND ESTIMATOR 6================\n",
      "(0.6666666666666666, 0.8666666666666667, 0.75, 0.8125, 0.7058823529411765, 0.8387096774193549)\n",
      "================FOR 40.0 PERCENT TEST DATA AND ESTIMATOR 7================\n",
      "(0.6363636363636364, 0.9230769230769231, 0.875, 0.75, 0.7368421052631579, 0.8275862068965517)\n",
      "================FOR 40.0 PERCENT TEST DATA AND ESTIMATOR 8================\n",
      "(0.625, 0.8125, 0.625, 0.8125, 0.625, 0.8125)\n",
      "================FOR 40.0 PERCENT TEST DATA AND ESTIMATOR 9================\n",
      "(0.5384615384615384, 0.9090909090909091, 0.875, 0.625, 0.6666666666666667, 0.7407407407407406)\n",
      "================FOR 40.0 PERCENT TEST DATA AND ESTIMATOR 10================\n",
      "(0.6, 0.7368421052631579, 0.375, 0.875, 0.4615384615384615, 0.7999999999999999)\n",
      "================FOR 40.0 PERCENT TEST DATA AND ESTIMATOR 11================\n",
      "(0.7, 0.9285714285714286, 0.875, 0.8125, 0.7777777777777777, 0.8666666666666666)\n",
      "================FOR 40.0 PERCENT TEST DATA AND ESTIMATOR 12================\n",
      "(0.8571428571428571, 0.8823529411764706, 0.75, 0.9375, 0.7999999999999999, 0.9090909090909091)\n",
      "================FOR 40.0 PERCENT TEST DATA AND ESTIMATOR 13================\n",
      "(0.7142857142857143, 0.8235294117647058, 0.625, 0.875, 0.6666666666666666, 0.8484848484848485)\n",
      "================FOR 40.0 PERCENT TEST DATA AND ESTIMATOR 14================\n",
      "(0.75, 0.75, 0.375, 0.9375, 0.5, 0.8333333333333334)\n",
      "================FOR 40.0 PERCENT TEST DATA AND ESTIMATOR 15================\n",
      "(0.6363636363636364, 0.9230769230769231, 0.875, 0.75, 0.7368421052631579, 0.8275862068965517)\n",
      "================FOR 40.0 PERCENT TEST DATA AND ESTIMATOR 16================\n",
      "(0.6, 0.8571428571428571, 0.75, 0.75, 0.6666666666666665, 0.7999999999999999)\n",
      "================FOR 40.0 PERCENT TEST DATA AND ESTIMATOR 17================\n",
      "(1.0, 0.8421052631578947, 0.625, 1.0, 0.7692307692307693, 0.9142857142857143)\n",
      "================FOR 40.0 PERCENT TEST DATA AND ESTIMATOR 18================\n",
      "(0.5, 0.75, 0.5, 0.75, 0.5, 0.75)\n",
      "================FOR 40.0 PERCENT TEST DATA AND ESTIMATOR 19================\n",
      "(0.6, 0.8571428571428571, 0.75, 0.75, 0.6666666666666665, 0.7999999999999999)\n",
      "================FOR 40.0 PERCENT TEST DATA AND ESTIMATOR 20================\n",
      "(0.625, 0.8125, 0.625, 0.8125, 0.625, 0.8125)\n",
      "-------------------------------------end of the expt with given test percent-------------------------------------\n",
      "\n",
      "================FOR 50.0 PERCENT TEST DATA AND ESTIMATOR 1================\n",
      "(0.5555555555555556, 0.7727272727272727, 0.5, 0.8095238095238095, 0.5263157894736842, 0.7906976744186046)\n",
      "================FOR 50.0 PERCENT TEST DATA AND ESTIMATOR 2================\n",
      "(0.8, 0.7692307692307693, 0.4, 0.9523809523809523, 0.5333333333333333, 0.8510638297872339)\n",
      "================FOR 50.0 PERCENT TEST DATA AND ESTIMATOR 3================\n",
      "(0.5555555555555556, 0.7727272727272727, 0.5, 0.8095238095238095, 0.5263157894736842, 0.7906976744186046)\n",
      "================FOR 50.0 PERCENT TEST DATA AND ESTIMATOR 4================\n",
      "(0.75, 0.8260869565217391, 0.6, 0.9047619047619048, 0.6666666666666665, 0.8636363636363636)\n",
      "================FOR 50.0 PERCENT TEST DATA AND ESTIMATOR 5================\n",
      "(0.42857142857142855, 0.7083333333333334, 0.3, 0.8095238095238095, 0.3529411764705882, 0.7555555555555556)\n",
      "================FOR 50.0 PERCENT TEST DATA AND ESTIMATOR 6================\n",
      "(0.7142857142857143, 0.7916666666666666, 0.5, 0.9047619047619048, 0.588235294117647, 0.8444444444444444)\n",
      "================FOR 50.0 PERCENT TEST DATA AND ESTIMATOR 7================\n",
      "(0.75, 0.8260869565217391, 0.6, 0.9047619047619048, 0.6666666666666665, 0.8636363636363636)\n",
      "================FOR 50.0 PERCENT TEST DATA AND ESTIMATOR 8================\n",
      "(0.6, 0.7307692307692307, 0.3, 0.9047619047619048, 0.4, 0.8085106382978723)\n",
      "================FOR 50.0 PERCENT TEST DATA AND ESTIMATOR 9================\n",
      "(0.6666666666666666, 0.8181818181818182, 0.6, 0.8571428571428571, 0.631578947368421, 0.8372093023255814)\n",
      "================FOR 50.0 PERCENT TEST DATA AND ESTIMATOR 10================\n",
      "(0.8, 0.7692307692307693, 0.4, 0.9523809523809523, 0.5333333333333333, 0.8510638297872339)\n",
      "================FOR 50.0 PERCENT TEST DATA AND ESTIMATOR 11================\n",
      "(0.7142857142857143, 0.7916666666666666, 0.5, 0.9047619047619048, 0.588235294117647, 0.8444444444444444)\n",
      "================FOR 50.0 PERCENT TEST DATA AND ESTIMATOR 12================\n",
      "(0.6, 0.7307692307692307, 0.3, 0.9047619047619048, 0.4, 0.8085106382978723)\n",
      "================FOR 50.0 PERCENT TEST DATA AND ESTIMATOR 13================\n",
      "(0.8333333333333334, 0.8, 0.5, 0.9523809523809523, 0.625, 0.8695652173913043)\n",
      "================FOR 50.0 PERCENT TEST DATA AND ESTIMATOR 14================\n",
      "(0.6666666666666666, 0.76, 0.4, 0.9047619047619048, 0.5, 0.8260869565217391)\n",
      "================FOR 50.0 PERCENT TEST DATA AND ESTIMATOR 15================\n",
      "(0.7142857142857143, 0.7916666666666666, 0.5, 0.9047619047619048, 0.588235294117647, 0.8444444444444444)\n",
      "================FOR 50.0 PERCENT TEST DATA AND ESTIMATOR 16================\n",
      "(1.0, 0.75, 0.3, 1.0, 0.4615384615384615, 0.8571428571428571)\n",
      "================FOR 50.0 PERCENT TEST DATA AND ESTIMATOR 17================\n",
      "(0.5454545454545454, 0.8, 0.6, 0.7619047619047619, 0.5714285714285713, 0.7804878048780488)\n",
      "================FOR 50.0 PERCENT TEST DATA AND ESTIMATOR 18================\n",
      "(0.7777777777777778, 0.8636363636363636, 0.7, 0.9047619047619048, 0.7368421052631577, 0.8837209302325582)\n",
      "================FOR 50.0 PERCENT TEST DATA AND ESTIMATOR 19================\n",
      "(0.6666666666666666, 0.8947368421052632, 0.8, 0.8095238095238095, 0.7272727272727272, 0.8500000000000001)\n",
      "================FOR 50.0 PERCENT TEST DATA AND ESTIMATOR 20================\n",
      "(0.5714285714285714, 0.75, 0.4, 0.8571428571428571, 0.47058823529411764, 0.7999999999999999)\n",
      "-------------------------------------end of the expt with given test percent-------------------------------------\n",
      "\n",
      "================FOR 60.0 PERCENT TEST DATA AND ESTIMATOR 1================\n",
      "(0.25, 0.72, 0.3, 0.6666666666666666, 0.2727272727272727, 0.6923076923076923)\n",
      "================FOR 60.0 PERCENT TEST DATA AND ESTIMATOR 2================\n",
      "(0.3333333333333333, 0.75, 0.3, 0.7777777777777778, 0.3157894736842105, 0.7636363636363638)\n",
      "================FOR 60.0 PERCENT TEST DATA AND ESTIMATOR 3================\n",
      "(0.3333333333333333, 0.7352941176470589, 0.1, 0.9259259259259259, 0.15384615384615383, 0.819672131147541)\n",
      "================FOR 60.0 PERCENT TEST DATA AND ESTIMATOR 4================\n",
      "(0.2, 0.71875, 0.1, 0.8518518518518519, 0.13333333333333333, 0.7796610169491525)\n",
      "================FOR 60.0 PERCENT TEST DATA AND ESTIMATOR 5================\n",
      "(0.4444444444444444, 0.7857142857142857, 0.4, 0.8148148148148148, 0.4210526315789474, 0.7999999999999999)\n",
      "================FOR 60.0 PERCENT TEST DATA AND ESTIMATOR 6================\n",
      "(0.4, 0.7777777777777778, 0.4, 0.7777777777777778, 0.4000000000000001, 0.7777777777777778)\n",
      "================FOR 60.0 PERCENT TEST DATA AND ESTIMATOR 7================\n",
      "(0.4, 0.7777777777777778, 0.4, 0.7777777777777778, 0.4000000000000001, 0.7777777777777778)\n",
      "================FOR 60.0 PERCENT TEST DATA AND ESTIMATOR 8================\n",
      "(0.7272727272727273, 0.9230769230769231, 0.8, 0.8888888888888888, 0.761904761904762, 0.9056603773584906)\n",
      "================FOR 60.0 PERCENT TEST DATA AND ESTIMATOR 9================\n",
      "(0.5, 0.7741935483870968, 0.3, 0.8888888888888888, 0.37499999999999994, 0.8275862068965517)\n",
      "================FOR 60.0 PERCENT TEST DATA AND ESTIMATOR 10================\n",
      "(0.8, 0.8125, 0.4, 0.9629629629629629, 0.5333333333333333, 0.8813559322033898)\n",
      "================FOR 60.0 PERCENT TEST DATA AND ESTIMATOR 11================\n",
      "(0.7142857142857143, 0.8333333333333334, 0.5, 0.9259259259259259, 0.588235294117647, 0.8771929824561403)\n",
      "================FOR 60.0 PERCENT TEST DATA AND ESTIMATOR 12================\n",
      "(0.2857142857142857, 0.7333333333333333, 0.2, 0.8148148148148148, 0.23529411764705882, 0.7719298245614035)\n",
      "================FOR 60.0 PERCENT TEST DATA AND ESTIMATOR 13================\n",
      "(0.3333333333333333, 0.7419354838709677, 0.2, 0.8518518518518519, 0.25, 0.7931034482758621)\n",
      "================FOR 60.0 PERCENT TEST DATA AND ESTIMATOR 14================\n",
      "(0.3333333333333333, 0.7352941176470589, 0.1, 0.9259259259259259, 0.15384615384615383, 0.819672131147541)\n",
      "================FOR 60.0 PERCENT TEST DATA AND ESTIMATOR 15================\n",
      "(0.25, 0.7272727272727273, 0.1, 0.8888888888888888, 0.14285714285714288, 0.7999999999999999)\n",
      "================FOR 60.0 PERCENT TEST DATA AND ESTIMATOR 16================\n",
      "(0.3333333333333333, 0.7419354838709677, 0.2, 0.8518518518518519, 0.25, 0.7931034482758621)\n",
      "================FOR 60.0 PERCENT TEST DATA AND ESTIMATOR 17================\n",
      "(0.75, 0.8620689655172413, 0.6, 0.9259259259259259, 0.6666666666666665, 0.8928571428571429)\n",
      "================FOR 60.0 PERCENT TEST DATA AND ESTIMATOR 18================\n",
      "(0.7142857142857143, 0.8333333333333334, 0.5, 0.9259259259259259, 0.588235294117647, 0.8771929824561403)\n",
      "================FOR 60.0 PERCENT TEST DATA AND ESTIMATOR 19================\n",
      "(0.45454545454545453, 0.8076923076923077, 0.5, 0.7777777777777778, 0.47619047619047616, 0.7924528301886792)\n",
      "================FOR 60.0 PERCENT TEST DATA AND ESTIMATOR 20================\n",
      "(0.4, 0.75, 0.2, 0.8888888888888888, 0.26666666666666666, 0.8135593220338982)\n",
      "-------------------------------------end of the expt with given test percent-------------------------------------\n",
      "\n"
     ]
    }
   ],
   "source": [
    "from sklearn.ensemble import RandomForestClassifier\n",
    "for testPercent in [0.4,0.5,0.6]:\n",
    "    trainX,trainY,testX,testY=prepareData(testPercent,X_pca)\n",
    "    for estimatior in range(1,21):\n",
    "        forest = RandomForestClassifier(n_estimators = estimatior)\n",
    "        forest = forest.fit(trainX,trainY)\n",
    "        output = forest.predict(testX)\n",
    "        print(\"================FOR \"+str(100*testPercent)+\" PERCENT TEST DATA AND ESTIMATOR \"+str(estimatior)+\"================\")\n",
    "        print(precision_recall_f1(testY,output))\n",
    "    print(\"-------------------------------------end of the expt with given test percent-------------------------------------\")\n",
    "    print()"
   ]
  },
  {
   "cell_type": "markdown",
   "metadata": {},
   "source": [
    "SVM Experiments:\n",
    "We are going to use linear,Polynomila and RBF kernels and perform experiments by tuning parameters like C and gamma.Also we will use class weighting mechanisms.One of the traditional approaches to tune these parameters is to use grid search. But we will manually tune these parameters.\n",
    "    The C parameter tells the SVM optimization how much we want to avoid misclassifying each training example. For large values of C, the optimization will choose a smaller-margin hyperplane if that hyperplane does a better job of getting all the training points classified correctly. Conversely, a very small value of C will cause the optimizer to look for a larger-margin separating hyperplane, even if that hyperplane misclassifies more points. For very tiny values of C, we should get misclassified examples, often even if our training data is linearly separable.\n",
    "    "
   ]
  },
  {
   "cell_type": "code",
   "execution_count": 1,
   "metadata": {
    "collapsed": false
   },
   "outputs": [
    {
     "name": "stdout",
     "output_type": "stream",
     "text": [
      "for linear kernel [0.00390625, 1.0]\n",
      "for poly kernel [0.00048828125, 0.8761904761904763]\n",
      "for rbf kernel [1.9073486328125e-06, 1024, 1.0]\n"
     ]
    }
   ],
   "source": [
    "import pandas as pd\n",
    "import numpy as np\n",
    "from sklearn.preprocessing import StandardScaler\n",
    "from sklearn import svm\n",
    "\n",
    "from sklearn.decomposition import PCA\n",
    "df = pd.read_csv(\n",
    "    filepath_or_buffer='/home/kushwanth/Downloads/ColonTumor/colonTumor.data',\n",
    "    header=None,\n",
    "    sep=',')\n",
    "# split data into X and y\n",
    "X = df.ix[:,0:1999].values\n",
    "X_std = StandardScaler().fit_transform(X)\n",
    "y_labs = df.ix[:,2000].values\n",
    "y=np.zeros(62,dtype=np.int)\n",
    "i=0\n",
    "for value in df.ix[:,2000].values:\n",
    "    if value=='positive':\n",
    "        y[i]=int(1)\n",
    "    else: y[i]=int(0)\n",
    "    i=i+1\n",
    "\n",
    "\n",
    "pos=22\n",
    "neg=40\n",
    "nDims=60\n",
    "pca = PCA(n_components=nDims)\n",
    "pca.fit(X_std)\n",
    "X_pca=pca.transform(X_std)\n",
    "\n",
    "pos_count_tr=0\n",
    "neg_count_tr=0\n",
    "tes_pos_co=0\n",
    "tes_neg_co=0\n",
    "#testPercent must be between 0 to 1\n",
    "#totalData is of shape 62:2000\n",
    "#ie nsamples:ndimensions\n",
    "def prepareData(testPercent,totalData):\n",
    "    total_len=len(totalData[:,1])\n",
    "    tes_pos_co=int(testPercent*pos)\n",
    "    tes_neg_co=int(testPercent*neg)\n",
    "    pos_count_tr=pos-tes_pos_co\n",
    "    neg_count_tr=neg-tes_neg_co\n",
    "    trainCount=pos_count_tr+neg_count_tr\n",
    "    testCount=tes_neg_co+tes_pos_co\n",
    "    trainX=np.zeros([trainCount,60])\n",
    "    trainY=np.zeros([trainCount])\n",
    "    testX=np.zeros([testCount,60])\n",
    "    testY=np.zeros([testCount])\n",
    "    trPsTemp=0\n",
    "    trNgTemp=0\n",
    "    tesPsTemp=0\n",
    "    tesNgTemp=0\n",
    "    for i in range(0,total_len):\n",
    "        if y[i]==0:\n",
    "            if trNgTemp<neg_count_tr:\n",
    "                trainX[trNgTemp]=totalData[i,:]\n",
    "                trainY[trNgTemp]=0\n",
    "                trNgTemp+=1\n",
    "            else:\n",
    "                testX[tesNgTemp]=totalData[i,:]\n",
    "                testY[tesNgTemp]=0\n",
    "                tesNgTemp+=1\n",
    "        else:\n",
    "            if trPsTemp<pos_count_tr:\n",
    "                trainX[trPsTemp]=totalData[i,:]\n",
    "                trainY[trPsTemp]=1\n",
    "                trPsTemp+=1\n",
    "            else:\n",
    "                testX[tesPsTemp]=totalData[i,:]\n",
    "                testY[tesPsTemp]=1\n",
    "                tesPsTemp+=1\n",
    "    return trainX,trainY,testX,testY\n",
    "\n",
    "\n",
    "\n",
    "\n",
    "\n",
    "def precision_recall_f1(y_labs,y_preds):\n",
    "    if len(y_labs)==len(y_preds) :\n",
    "        TruPos=float(0)\n",
    "        FalNeg=float(0)\n",
    "        TruNeg=float(0)\n",
    "        FalPos=float(0)\n",
    "        iter_len=range(0,len(y_labs))\n",
    "        count=0\n",
    "        for index in iter_len:\n",
    "            if y_labs[index]==y_preds[index] :\n",
    "                if y_labs[index]==1 : TruPos+=1\n",
    "                else : TruNeg+=1\n",
    "            else:\n",
    "                if y_labs[index]==1 : FalNeg+=1\n",
    "                else : FalPos+=1\n",
    "        Pos_Prec=float(TruPos)/(float(TruPos)+float(FalPos))\n",
    "        Neg_Prec=float(TruNeg)/(float(TruNeg)+float(FalNeg))\n",
    "        Pos_Recall=float(TruPos)/(float(TruPos)+float(FalNeg))\n",
    "        Neg_Recall=float(TruNeg)/(float(TruNeg)+float(FalPos))\n",
    "        Pos_F1=2*((Pos_Prec*Pos_Recall)/(Pos_Prec+Pos_Recall))\n",
    "        Neg_F1=2*((Neg_Prec*Neg_Recall)/(Neg_Prec+Neg_Recall))\n",
    "        return Pos_Prec,Neg_Prec,Pos_Recall,Neg_Recall,Pos_F1,Neg_F1\n",
    "\n",
    "from sklearn.model_selection import cross_val_score\n",
    "\n",
    "\n",
    "rang_array=np.arange(-20,11,1)\n",
    "trainX,trainY,testX,testY=prepareData(0.5,X_pca)\n",
    "kernels=['linear', 'poly']\n",
    "for kern in kernels:\n",
    "    cs=[]\n",
    "    for cpow in rang_array:\n",
    "        c=pow(2,cpow)\n",
    "        clf = svm.SVC(kernel=kern, C=c,class_weight={0:0.2,1:0.8})\n",
    "        cur_scores=cross_val_score(clf, trainX,trainY,cv=5)\n",
    "        cs.append([c,np.mean(cur_scores)])\n",
    "    cs=sorted(cs, reverse=True,key=lambda cs: cs[1])\n",
    "    print(\"for \"+kern+\" kernel \"+str(cs[0]))\n",
    "\n",
    "\n",
    "\n",
    "gamma_pow=np.arange(-20,5,1)\n",
    "kern='rbf'\n",
    "cs=[]\n",
    "for gpow in gamma_pow:\n",
    "    g=pow(2,gpow)\n",
    "    for cpow in rang_array:\n",
    "            c=pow(2,cpow)\n",
    "            clf = svm.SVC(kernel=kern, C=c,gamma=g,class_weight={0:0.2,1:0.8})\n",
    "            cur_scores=cross_val_score(clf, trainX,trainY,cv=5)\n",
    "            cs.append([g,c,np.mean(cur_scores)])\n",
    "cs=sorted(cs, reverse=True,key=lambda cs: cs[2])\n",
    "print(\"for \"+kern+\" kernel \"+str(cs[0]))\n"
   ]
  },
  {
   "cell_type": "code",
   "execution_count": null,
   "metadata": {
    "collapsed": true
   },
   "outputs": [],
   "source": []
  }
 ],
 "metadata": {
  "kernelspec": {
   "display_name": "Python 3",
   "language": "python",
   "name": "python3"
  },
  "language_info": {
   "codemirror_mode": {
    "name": "ipython",
    "version": 3
   },
   "file_extension": ".py",
   "mimetype": "text/x-python",
   "name": "python",
   "nbconvert_exporter": "python",
   "pygments_lexer": "ipython3",
   "version": "3.4.3"
  }
 },
 "nbformat": 4,
 "nbformat_minor": 1
}
